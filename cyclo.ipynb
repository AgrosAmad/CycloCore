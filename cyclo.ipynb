{
 "cells": [
  {
   "cell_type": "code",
   "execution_count": null,
   "metadata": {},
   "outputs": [],
   "source": [
    "# Core implementation of turbulent heat and water continuity, we provide the main commands to compute the \n",
    "# discrete equations in Algorithms 1 and 2. \n",
    "\n",
    "import numpy as np\n",
    "\n",
    "# Main parameters (check Table 2 in the manuscript)\n",
    "rho_d = 2500\n",
    "gass_r = 0.287\n",
    "gamma0 = -6.5e-3\n",
    "gamma1 = 6.5e-3\n",
    "z1 = 8e3\n",
    "s_k = 0.1\n",
    "\n",
    "# Get background temperature profile\n",
    "# Input:\n",
    "# groundT - 2D grid with ground temperature (can be time dependent - series of 2D textures)\n",
    "# idx = (i,j,k) - 3D coordinates\n",
    "# gamma0, gamma1 - lapse rates\n",
    "# z1 - inversion altitude\n",
    "def backgroundT(groundT, idx, gamma0, gamma1, z1):\n",
    "    tempGround = groundT[idx[0]][idx[1]]\n",
    "    if(x[2]<=z1):\n",
    "        return tempGround - gamma0*idx[2]\n",
    "    else:\n",
    "        return tempGround - gamma0*z1 - gamma1* (idx[2]-z1)\n",
    "\n",
    "\n",
    "# Get background pressure profile\n",
    "# Input:\n",
    "# groundT - 2D grid with ground temperature\n",
    "# x - 3D coordinates\n",
    "# q_v - mixing ratio of vapor\n",
    "def backgroundP(groundT, idx, q_v):\n",
    "    return rho_d * gass_r * backgroundT(groundT, idx, gamma0, gamma1, z1) * (1.0+0.61*q_v)\n",
    "\n",
    "# Get turbulent viscosity\n",
    "# Input:\n",
    "# k - turbulent energy field\n",
    "# idx  = (i,j,k) - 3D coordinates\n",
    "def nu_t(k, idx):\n",
    "    return 0.2 * s_k * np.sqrt(k[idx[0]][idx[1]][idx[2]])\n",
    "\n",
    "\n",
    "\n"
   ]
  }
 ],
 "metadata": {
  "kernelspec": {
   "display_name": "Python 3",
   "language": "python",
   "name": "python3"
  },
  "language_info": {
   "name": "python",
   "version": "3.11.5"
  }
 },
 "nbformat": 4,
 "nbformat_minor": 2
}
